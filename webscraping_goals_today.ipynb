{
  "nbformat": 4,
  "nbformat_minor": 0,
  "metadata": {
    "colab": {
      "provenance": []
    },
    "kernelspec": {
      "name": "python3",
      "display_name": "Python 3"
    },
    "language_info": {
      "name": "python"
    }
  },
  "cells": [
    {
      "cell_type": "code",
      "execution_count": null,
      "metadata": {
        "colab": {
          "base_uri": "https://localhost:8080/"
        },
        "id": "0KSosy3G1fqQ",
        "outputId": "3a3eddb3-0940-49de-d42e-7f8775ea8117"
      },
      "outputs": [
        {
          "output_type": "stream",
          "name": "stderr",
          "text": [
            "<ipython-input-1-272ae969d28e>:58: FutureWarning: The frame.append method is deprecated and will be removed from pandas in a future version. Use pandas.concat instead.\n",
            "  df = df.append( pd.DataFrame({\"Matches\":[matchh],\n",
            "<ipython-input-1-272ae969d28e>:58: FutureWarning: The frame.append method is deprecated and will be removed from pandas in a future version. Use pandas.concat instead.\n",
            "  df = df.append( pd.DataFrame({\"Matches\":[matchh],\n",
            "<ipython-input-1-272ae969d28e>:58: FutureWarning: The frame.append method is deprecated and will be removed from pandas in a future version. Use pandas.concat instead.\n",
            "  df = df.append( pd.DataFrame({\"Matches\":[matchh],\n",
            "<ipython-input-1-272ae969d28e>:58: FutureWarning: The frame.append method is deprecated and will be removed from pandas in a future version. Use pandas.concat instead.\n",
            "  df = df.append( pd.DataFrame({\"Matches\":[matchh],\n",
            "<ipython-input-1-272ae969d28e>:58: FutureWarning: The frame.append method is deprecated and will be removed from pandas in a future version. Use pandas.concat instead.\n",
            "  df = df.append( pd.DataFrame({\"Matches\":[matchh],\n",
            "<ipython-input-1-272ae969d28e>:58: FutureWarning: The frame.append method is deprecated and will be removed from pandas in a future version. Use pandas.concat instead.\n",
            "  df = df.append( pd.DataFrame({\"Matches\":[matchh],\n"
          ]
        }
      ],
      "source": [
        "# Importar las librerías necesarias\n",
        "import requests\n",
        "from bs4 import BeautifulSoup\n",
        "import datetime as dt\n",
        "from datetime import timedelta\n",
        "import numpy as np\n",
        "import pandas as pd\n",
        "# Definir la URL de la página web a scrapear\n",
        "url = \"https://www.fctables.com/todays-match-predictions/\"\n",
        "\n",
        "# Obtener el contenido de la página web\n",
        "response = requests.get(url)\n",
        "\n",
        "# Crear un objeto BeautifulSoup\n",
        "soup = BeautifulSoup(response.content, \"html.parser\")\n",
        "\n",
        "# Buscar los elementos de la página web que queremos extraer\n",
        "elementos = soup.find_all(class_=\"table table-striped table-bordered stage-table table-condensed\")\n",
        "\n",
        "df = pd.DataFrame({\"Matches\":[],\n",
        "                    \"over 1.5 local\":[],\n",
        "                    \"over 1.5 visitante\":[],\n",
        "                    \"over 1.5 total\":[]})\n",
        "\n",
        "if elementos[0]:\n",
        "  tbody = elementos[0].find(\"tbody\")\n",
        "  trs =tbody.find_all(\"tr\")\n",
        "  for tr in trs:\n",
        "    url_match = tr.find_all(\"td\")[2].find(\"a\")[\"href\"]\n",
        "    matchh = tr.find_all(\"td\")[2].find(\"a\").text\n",
        "    #print(url_match)\n",
        "    response = requests.get(\"https://www.fctables.com\"+url_match)\n",
        "    soup = BeautifulSoup(response.content, \"html.parser\")\n",
        "    tablas = soup.find_all(id=\"team_stats_vs\")\n",
        "\n",
        "    for tabla in tablas:\n",
        "      tbody = tabla.find(\"tbody\")\n",
        "      trs =tbody.find_all(\"tr\")\n",
        "      for tr in trs:\n",
        "        #print(tr)\n",
        "        if \"Over 1.5\" in tr.text:\n",
        "          tds = tr.find_all(\"td\")\n",
        "          if tds[0].text:\n",
        "            local = tds[0].text\n",
        "            valor = local[local.find(\"(\") + 1:local.find(\")\")]\n",
        "            valor = valor.replace(\"%\",\"\")\n",
        "            local = int(valor)\n",
        "          else:\n",
        "            local = 0\n",
        "          if tds[2].text:\n",
        "            visitante = tds[2].text\n",
        "            valor = visitante[visitante.find(\"(\") + 1:visitante.find(\")\")]\n",
        "            valor = valor.replace(\"%\",\"\")\n",
        "            visitante = int(valor)\n",
        "          else:\n",
        "            visitante = 0\n",
        "          if local > 80 and visitante > 80 :\n",
        "            df = df.append( pd.DataFrame({\"Matches\":[matchh],\n",
        "                    \"over 1.5 local\":[local],\n",
        "                    \"over 1.5 visitante\":[visitante],\n",
        "                    \"over 1.5 total\":[ (local+visitante) / 2]}) )\n",
        "            dic = {'encuentro':matchh,'local':local,'visitante':visitante , 'total': local+visitante }\n",
        "print(df)\n",
        "current_date = dt.date.today()\n",
        "today = current_date.strftime(\"%w_%B_%Y\")\n",
        "df.to_excel(\"over15_\"+today+\".xlsx\")\n"
      ]
    }
  ]
}